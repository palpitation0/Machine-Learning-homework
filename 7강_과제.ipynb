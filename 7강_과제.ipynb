{
  "nbformat": 4,
  "nbformat_minor": 0,
  "metadata": {
    "colab": {
      "name": "7강 과제",
      "provenance": [],
      "collapsed_sections": [],
      "include_colab_link": true
    },
    "kernelspec": {
      "name": "python3",
      "display_name": "Python 3"
    }
  },
  "cells": [
    {
      "cell_type": "markdown",
      "metadata": {
        "id": "view-in-github",
        "colab_type": "text"
      },
      "source": [
        "<a href=\"https://colab.research.google.com/github/palpitation0/Machine-Learning-homework/blob/master/7%EA%B0%95_%EA%B3%BC%EC%A0%9C.ipynb\" target=\"_parent\"><img src=\"https://colab.research.google.com/assets/colab-badge.svg\" alt=\"Open In Colab\"/></a>"
      ]
    },
    {
      "cell_type": "code",
      "metadata": {
        "id": "ckg7uh4S5FQ3",
        "colab_type": "code",
        "colab": {}
      },
      "source": [
        "import numpy as np\n",
        "import pandas as pd\n",
        "import matplotlib.pyplot as plt"
      ],
      "execution_count": 0,
      "outputs": []
    },
    {
      "cell_type": "code",
      "metadata": {
        "id": "ml5bdy8g5uVC",
        "colab_type": "code",
        "colab": {
          "resources": {
            "http://localhost:8080/nbextensions/google.colab/files.js": {
              "data": "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",
              "ok": true,
              "headers": [
                [
                  "content-type",
                  "application/javascript"
                ]
              ],
              "status": 200,
              "status_text": ""
            }
          },
          "base_uri": "https://localhost:8080/",
          "height": 78
        },
        "outputId": "8914a613-9ed6-4795-b6bf-2b2b649ecfd1"
      },
      "source": [
        "from google.colab import files\n",
        "uploaded = files.upload()"
      ],
      "execution_count": 72,
      "outputs": [
        {
          "output_type": "display_data",
          "data": {
            "text/html": [
              "\n",
              "     <input type=\"file\" id=\"files-a28d0f3a-a6a6-4651-bb09-8759bd6f6ef8\" name=\"files[]\" multiple disabled />\n",
              "     <output id=\"result-a28d0f3a-a6a6-4651-bb09-8759bd6f6ef8\">\n",
              "      Upload widget is only available when the cell has been executed in the\n",
              "      current browser session. Please rerun this cell to enable.\n",
              "      </output>\n",
              "      <script src=\"/nbextensions/google.colab/files.js\"></script> "
            ],
            "text/plain": [
              "<IPython.core.display.HTML object>"
            ]
          },
          "metadata": {
            "tags": []
          }
        },
        {
          "output_type": "stream",
          "text": [
            "Saving data.csv to data (2).csv\n"
          ],
          "name": "stdout"
        }
      ]
    },
    {
      "cell_type": "code",
      "metadata": {
        "id": "4cDTyP-F5HZ-",
        "colab_type": "code",
        "colab": {}
      },
      "source": [
        "df = pd.read_csv('data (2).csv')"
      ],
      "execution_count": 0,
      "outputs": []
    },
    {
      "cell_type": "code",
      "metadata": {
        "id": "19iVMkeS5HXU",
        "colab_type": "code",
        "colab": {
          "base_uri": "https://localhost:8080/",
          "height": 198
        },
        "outputId": "e0b57acf-9bbb-4607-91bd-ef1215ab6b81"
      },
      "source": [
        "df.head(5)"
      ],
      "execution_count": 93,
      "outputs": [
        {
          "output_type": "execute_result",
          "data": {
            "text/html": [
              "<div>\n",
              "<style scoped>\n",
              "    .dataframe tbody tr th:only-of-type {\n",
              "        vertical-align: middle;\n",
              "    }\n",
              "\n",
              "    .dataframe tbody tr th {\n",
              "        vertical-align: top;\n",
              "    }\n",
              "\n",
              "    .dataframe thead th {\n",
              "        text-align: right;\n",
              "    }\n",
              "</style>\n",
              "<table border=\"1\" class=\"dataframe\">\n",
              "  <thead>\n",
              "    <tr style=\"text-align: right;\">\n",
              "      <th></th>\n",
              "      <th>X1</th>\n",
              "      <th>X2</th>\n",
              "      <th>X3</th>\n",
              "      <th>X4</th>\n",
              "      <th>X5</th>\n",
              "    </tr>\n",
              "  </thead>\n",
              "  <tbody>\n",
              "    <tr>\n",
              "      <th>0</th>\n",
              "      <td>90</td>\n",
              "      <td>475</td>\n",
              "      <td>9.3</td>\n",
              "      <td>1010</td>\n",
              "      <td>1641</td>\n",
              "    </tr>\n",
              "    <tr>\n",
              "      <th>1</th>\n",
              "      <td>200</td>\n",
              "      <td>132</td>\n",
              "      <td>4.4</td>\n",
              "      <td>1094</td>\n",
              "      <td>1433</td>\n",
              "    </tr>\n",
              "    <tr>\n",
              "      <th>2</th>\n",
              "      <td>256</td>\n",
              "      <td>239</td>\n",
              "      <td>39.5</td>\n",
              "      <td>1578</td>\n",
              "      <td>1810</td>\n",
              "    </tr>\n",
              "    <tr>\n",
              "      <th>3</th>\n",
              "      <td>150</td>\n",
              "      <td>352</td>\n",
              "      <td>38.2</td>\n",
              "      <td>2604</td>\n",
              "      <td>2412</td>\n",
              "    </tr>\n",
              "    <tr>\n",
              "      <th>4</th>\n",
              "      <td>150</td>\n",
              "      <td>1240</td>\n",
              "      <td>3.6</td>\n",
              "      <td>1543</td>\n",
              "      <td>3233</td>\n",
              "    </tr>\n",
              "  </tbody>\n",
              "</table>\n",
              "</div>"
            ],
            "text/plain": [
              "    X1    X2    X3    X4    X5\n",
              "0   90   475   9.3  1010  1641\n",
              "1  200   132   4.4  1094  1433\n",
              "2  256   239  39.5  1578  1810\n",
              "3  150   352  38.2  2604  2412\n",
              "4  150  1240   3.6  1543  3233"
            ]
          },
          "metadata": {
            "tags": []
          },
          "execution_count": 93
        }
      ]
    },
    {
      "cell_type": "code",
      "metadata": {
        "id": "DQwa59Hy5HO1",
        "colab_type": "code",
        "colab": {}
      },
      "source": [
        "df[\"company\"]= ['롯데삼강','해태유업','대림수산','삼양식품','백 양',\n",
        "           '동일방직','코오롱','태광산업','진도패션','한솔제지',\n",
        "           '한양화학','동성화학','종근당','녹십자','쌍용양회',\n",
        "           '대우전자','동아건설','동신주택']"
      ],
      "execution_count": 0,
      "outputs": []
    },
    {
      "cell_type": "code",
      "metadata": {
        "id": "-mTBPOvFIeEZ",
        "colab_type": "code",
        "colab": {
          "base_uri": "https://localhost:8080/",
          "height": 198
        },
        "outputId": "5bf40af2-4383-4c27-f528-81cea591edb5"
      },
      "source": [
        "df.head()"
      ],
      "execution_count": 95,
      "outputs": [
        {
          "output_type": "execute_result",
          "data": {
            "text/html": [
              "<div>\n",
              "<style scoped>\n",
              "    .dataframe tbody tr th:only-of-type {\n",
              "        vertical-align: middle;\n",
              "    }\n",
              "\n",
              "    .dataframe tbody tr th {\n",
              "        vertical-align: top;\n",
              "    }\n",
              "\n",
              "    .dataframe thead th {\n",
              "        text-align: right;\n",
              "    }\n",
              "</style>\n",
              "<table border=\"1\" class=\"dataframe\">\n",
              "  <thead>\n",
              "    <tr style=\"text-align: right;\">\n",
              "      <th></th>\n",
              "      <th>X1</th>\n",
              "      <th>X2</th>\n",
              "      <th>X3</th>\n",
              "      <th>X4</th>\n",
              "      <th>X5</th>\n",
              "      <th>company</th>\n",
              "    </tr>\n",
              "  </thead>\n",
              "  <tbody>\n",
              "    <tr>\n",
              "      <th>0</th>\n",
              "      <td>90</td>\n",
              "      <td>475</td>\n",
              "      <td>9.3</td>\n",
              "      <td>1010</td>\n",
              "      <td>1641</td>\n",
              "      <td>롯데삼강</td>\n",
              "    </tr>\n",
              "    <tr>\n",
              "      <th>1</th>\n",
              "      <td>200</td>\n",
              "      <td>132</td>\n",
              "      <td>4.4</td>\n",
              "      <td>1094</td>\n",
              "      <td>1433</td>\n",
              "      <td>해태유업</td>\n",
              "    </tr>\n",
              "    <tr>\n",
              "      <th>2</th>\n",
              "      <td>256</td>\n",
              "      <td>239</td>\n",
              "      <td>39.5</td>\n",
              "      <td>1578</td>\n",
              "      <td>1810</td>\n",
              "      <td>대림수산</td>\n",
              "    </tr>\n",
              "    <tr>\n",
              "      <th>3</th>\n",
              "      <td>150</td>\n",
              "      <td>352</td>\n",
              "      <td>38.2</td>\n",
              "      <td>2604</td>\n",
              "      <td>2412</td>\n",
              "      <td>삼양식품</td>\n",
              "    </tr>\n",
              "    <tr>\n",
              "      <th>4</th>\n",
              "      <td>150</td>\n",
              "      <td>1240</td>\n",
              "      <td>3.6</td>\n",
              "      <td>1543</td>\n",
              "      <td>3233</td>\n",
              "      <td>백 양</td>\n",
              "    </tr>\n",
              "  </tbody>\n",
              "</table>\n",
              "</div>"
            ],
            "text/plain": [
              "    X1    X2    X3    X4    X5 company\n",
              "0   90   475   9.3  1010  1641    롯데삼강\n",
              "1  200   132   4.4  1094  1433    해태유업\n",
              "2  256   239  39.5  1578  1810    대림수산\n",
              "3  150   352  38.2  2604  2412    삼양식품\n",
              "4  150  1240   3.6  1543  3233     백 양"
            ]
          },
          "metadata": {
            "tags": []
          },
          "execution_count": 95
        }
      ]
    },
    {
      "cell_type": "code",
      "metadata": {
        "id": "Pw92qIuWflwc",
        "colab_type": "code",
        "colab": {
          "base_uri": "https://localhost:8080/",
          "height": 35
        },
        "outputId": "cfae2c90-73c1-44c6-ceac-28f59229e26e"
      },
      "source": [
        "cols = df.columns.tolist()\n",
        "cols"
      ],
      "execution_count": 97,
      "outputs": [
        {
          "output_type": "execute_result",
          "data": {
            "text/plain": [
              "['X1', 'X2', 'X3', 'X4', 'X5', 'company']"
            ]
          },
          "metadata": {
            "tags": []
          },
          "execution_count": 97
        }
      ]
    },
    {
      "cell_type": "code",
      "metadata": {
        "id": "NpRJhY3Rf_2Y",
        "colab_type": "code",
        "colab": {
          "base_uri": "https://localhost:8080/",
          "height": 198
        },
        "outputId": "ff65a10a-66e2-4e11-c42b-e276302e8723"
      },
      "source": [
        "cols = cols[-1:] + cols[:-1]\n",
        "df = df[cols]\n",
        "df.head()"
      ],
      "execution_count": 98,
      "outputs": [
        {
          "output_type": "execute_result",
          "data": {
            "text/html": [
              "<div>\n",
              "<style scoped>\n",
              "    .dataframe tbody tr th:only-of-type {\n",
              "        vertical-align: middle;\n",
              "    }\n",
              "\n",
              "    .dataframe tbody tr th {\n",
              "        vertical-align: top;\n",
              "    }\n",
              "\n",
              "    .dataframe thead th {\n",
              "        text-align: right;\n",
              "    }\n",
              "</style>\n",
              "<table border=\"1\" class=\"dataframe\">\n",
              "  <thead>\n",
              "    <tr style=\"text-align: right;\">\n",
              "      <th></th>\n",
              "      <th>company</th>\n",
              "      <th>X1</th>\n",
              "      <th>X2</th>\n",
              "      <th>X3</th>\n",
              "      <th>X4</th>\n",
              "      <th>X5</th>\n",
              "    </tr>\n",
              "  </thead>\n",
              "  <tbody>\n",
              "    <tr>\n",
              "      <th>0</th>\n",
              "      <td>롯데삼강</td>\n",
              "      <td>90</td>\n",
              "      <td>475</td>\n",
              "      <td>9.3</td>\n",
              "      <td>1010</td>\n",
              "      <td>1641</td>\n",
              "    </tr>\n",
              "    <tr>\n",
              "      <th>1</th>\n",
              "      <td>해태유업</td>\n",
              "      <td>200</td>\n",
              "      <td>132</td>\n",
              "      <td>4.4</td>\n",
              "      <td>1094</td>\n",
              "      <td>1433</td>\n",
              "    </tr>\n",
              "    <tr>\n",
              "      <th>2</th>\n",
              "      <td>대림수산</td>\n",
              "      <td>256</td>\n",
              "      <td>239</td>\n",
              "      <td>39.5</td>\n",
              "      <td>1578</td>\n",
              "      <td>1810</td>\n",
              "    </tr>\n",
              "    <tr>\n",
              "      <th>3</th>\n",
              "      <td>삼양식품</td>\n",
              "      <td>150</td>\n",
              "      <td>352</td>\n",
              "      <td>38.2</td>\n",
              "      <td>2604</td>\n",
              "      <td>2412</td>\n",
              "    </tr>\n",
              "    <tr>\n",
              "      <th>4</th>\n",
              "      <td>백 양</td>\n",
              "      <td>150</td>\n",
              "      <td>1240</td>\n",
              "      <td>3.6</td>\n",
              "      <td>1543</td>\n",
              "      <td>3233</td>\n",
              "    </tr>\n",
              "  </tbody>\n",
              "</table>\n",
              "</div>"
            ],
            "text/plain": [
              "  company   X1    X2    X3    X4    X5\n",
              "0    롯데삼강   90   475   9.3  1010  1641\n",
              "1    해태유업  200   132   4.4  1094  1433\n",
              "2    대림수산  256   239  39.5  1578  1810\n",
              "3    삼양식품  150   352  38.2  2604  2412\n",
              "4     백 양  150  1240   3.6  1543  3233"
            ]
          },
          "metadata": {
            "tags": []
          },
          "execution_count": 98
        }
      ]
    },
    {
      "cell_type": "code",
      "metadata": {
        "id": "wXb0ashqNmYw",
        "colab_type": "code",
        "colab": {
          "base_uri": "https://localhost:8080/",
          "height": 1000
        },
        "outputId": "1aeb5af4-3cfd-4eeb-c1b4-cca5c6d31cb5"
      },
      "source": [
        "from scipy.spatial.distance import squareform, pdist\n",
        "DistMat = pd.DataFrame(squareform(pdist(df.iloc[:,1:])),\n",
        "                      columns=df.company.unique(), \n",
        "                      index=df.company.unique())\n",
        "DistMat"
      ],
      "execution_count": 99,
      "outputs": [
        {
          "output_type": "execute_result",
          "data": {
            "text/html": [
              "<div>\n",
              "<style scoped>\n",
              "    .dataframe tbody tr th:only-of-type {\n",
              "        vertical-align: middle;\n",
              "    }\n",
              "\n",
              "    .dataframe tbody tr th {\n",
              "        vertical-align: top;\n",
              "    }\n",
              "\n",
              "    .dataframe thead th {\n",
              "        text-align: right;\n",
              "    }\n",
              "</style>\n",
              "<table border=\"1\" class=\"dataframe\">\n",
              "  <thead>\n",
              "    <tr style=\"text-align: right;\">\n",
              "      <th></th>\n",
              "      <th>롯데삼강</th>\n",
              "      <th>해태유업</th>\n",
              "      <th>대림수산</th>\n",
              "      <th>삼양식품</th>\n",
              "      <th>백 양</th>\n",
              "      <th>동일방직</th>\n",
              "      <th>코오롱</th>\n",
              "      <th>태광산업</th>\n",
              "      <th>진도패션</th>\n",
              "      <th>한솔제지</th>\n",
              "      <th>한양화학</th>\n",
              "      <th>동성화학</th>\n",
              "      <th>종근당</th>\n",
              "      <th>녹십자</th>\n",
              "      <th>쌍용양회</th>\n",
              "      <th>대우전자</th>\n",
              "      <th>동아건설</th>\n",
              "      <th>동신주택</th>\n",
              "    </tr>\n",
              "  </thead>\n",
              "  <tbody>\n",
              "    <tr>\n",
              "      <th>롯데삼강</th>\n",
              "      <td>0.000000</td>\n",
              "      <td>424.373668</td>\n",
              "      <td>659.809851</td>\n",
              "      <td>1776.187268</td>\n",
              "      <td>1845.917249</td>\n",
              "      <td>709.770357</td>\n",
              "      <td>10728.679574</td>\n",
              "      <td>6936.159496</td>\n",
              "      <td>1264.999372</td>\n",
              "      <td>9173.321593</td>\n",
              "      <td>23023.279302</td>\n",
              "      <td>690.789584</td>\n",
              "      <td>733.339921</td>\n",
              "      <td>1040.966263</td>\n",
              "      <td>19878.591506</td>\n",
              "      <td>33324.651052</td>\n",
              "      <td>26869.944861</td>\n",
              "      <td>2865.923055</td>\n",
              "    </tr>\n",
              "    <tr>\n",
              "      <th>해태유업</th>\n",
              "      <td>424.373668</td>\n",
              "      <td>0.000000</td>\n",
              "      <td>626.260337</td>\n",
              "      <td>1813.996538</td>\n",
              "      <td>2161.426760</td>\n",
              "      <td>621.586880</td>\n",
              "      <td>10744.925306</td>\n",
              "      <td>7146.443513</td>\n",
              "      <td>1069.029466</td>\n",
              "      <td>9164.532126</td>\n",
              "      <td>22986.618548</td>\n",
              "      <td>424.926770</td>\n",
              "      <td>528.279481</td>\n",
              "      <td>1050.508110</td>\n",
              "      <td>19865.326782</td>\n",
              "      <td>33347.019151</td>\n",
              "      <td>26888.175970</td>\n",
              "      <td>2792.089126</td>\n",
              "    </tr>\n",
              "    <tr>\n",
              "      <th>대림수산</th>\n",
              "      <td>659.809851</td>\n",
              "      <td>626.260337</td>\n",
              "      <td>0.000000</td>\n",
              "      <td>1199.619394</td>\n",
              "      <td>1743.754515</td>\n",
              "      <td>797.973408</td>\n",
              "      <td>10138.219039</td>\n",
              "      <td>6680.084748</td>\n",
              "      <td>1660.981520</td>\n",
              "      <td>8571.190008</td>\n",
              "      <td>22415.091429</td>\n",
              "      <td>808.380041</td>\n",
              "      <td>866.393675</td>\n",
              "      <td>714.664145</td>\n",
              "      <td>19268.922365</td>\n",
              "      <td>32737.151980</td>\n",
              "      <td>26276.945070</td>\n",
              "      <td>2259.320570</td>\n",
              "    </tr>\n",
              "    <tr>\n",
              "      <th>삼양식품</th>\n",
              "      <td>1776.187268</td>\n",
              "      <td>1813.996538</td>\n",
              "      <td>1199.619394</td>\n",
              "      <td>0.000000</td>\n",
              "      <td>1609.193326</td>\n",
              "      <td>1777.750008</td>\n",
              "      <td>9033.562420</td>\n",
              "      <td>5883.175779</td>\n",
              "      <td>2810.662598</td>\n",
              "      <td>7415.883684</td>\n",
              "      <td>21376.149916</td>\n",
              "      <td>1943.446413</td>\n",
              "      <td>1935.809983</td>\n",
              "      <td>1242.155888</td>\n",
              "      <td>18133.320616</td>\n",
              "      <td>31606.682184</td>\n",
              "      <td>25121.928072</td>\n",
              "      <td>1562.357594</td>\n",
              "    </tr>\n",
              "    <tr>\n",
              "      <th>백 양</th>\n",
              "      <td>1845.917249</td>\n",
              "      <td>2161.426760</td>\n",
              "      <td>1743.754515</td>\n",
              "      <td>1609.193326</td>\n",
              "      <td>0.000000</td>\n",
              "      <td>2278.128506</td>\n",
              "      <td>9549.109171</td>\n",
              "      <td>5964.383104</td>\n",
              "      <td>3093.761600</td>\n",
              "      <td>8260.072896</td>\n",
              "      <td>22018.328008</td>\n",
              "      <td>2358.019983</td>\n",
              "      <td>2416.151612</td>\n",
              "      <td>1935.630288</td>\n",
              "      <td>18822.550105</td>\n",
              "      <td>32037.569475</td>\n",
              "      <td>25639.034323</td>\n",
              "      <td>2644.687016</td>\n",
              "    </tr>\n",
              "    <tr>\n",
              "      <th>동일방직</th>\n",
              "      <td>709.770357</td>\n",
              "      <td>621.586880</td>\n",
              "      <td>797.973408</td>\n",
              "      <td>1777.750008</td>\n",
              "      <td>2278.128506</td>\n",
              "      <td>0.000000</td>\n",
              "      <td>10685.733971</td>\n",
              "      <td>6725.611945</td>\n",
              "      <td>1123.178637</td>\n",
              "      <td>8990.285226</td>\n",
              "      <td>22860.718441</td>\n",
              "      <td>525.016390</td>\n",
              "      <td>273.511901</td>\n",
              "      <td>706.447054</td>\n",
              "      <td>19718.290205</td>\n",
              "      <td>33285.429650</td>\n",
              "      <td>26793.896828</td>\n",
              "      <td>2718.959146</td>\n",
              "    </tr>\n",
              "    <tr>\n",
              "      <th>코오롱</th>\n",
              "      <td>10728.679574</td>\n",
              "      <td>10744.925306</td>\n",
              "      <td>10138.219039</td>\n",
              "      <td>9033.562420</td>\n",
              "      <td>9549.109171</td>\n",
              "      <td>10685.733971</td>\n",
              "      <td>0.000000</td>\n",
              "      <td>8034.807543</td>\n",
              "      <td>11696.892948</td>\n",
              "      <td>3150.432766</td>\n",
              "      <td>12663.645171</td>\n",
              "      <td>10765.574818</td>\n",
              "      <td>10808.691174</td>\n",
              "      <td>10014.293298</td>\n",
              "      <td>9493.435298</td>\n",
              "      <td>22620.842603</td>\n",
              "      <td>16258.779796</td>\n",
              "      <td>8106.062315</td>\n",
              "    </tr>\n",
              "    <tr>\n",
              "      <th>태광산업</th>\n",
              "      <td>6936.159496</td>\n",
              "      <td>7146.443513</td>\n",
              "      <td>6680.084748</td>\n",
              "      <td>5883.175779</td>\n",
              "      <td>5964.383104</td>\n",
              "      <td>6725.611945</td>\n",
              "      <td>8034.807543</td>\n",
              "      <td>0.000000</td>\n",
              "      <td>7749.130770</td>\n",
              "      <td>6275.419744</td>\n",
              "      <td>19148.728296</td>\n",
              "      <td>7090.407309</td>\n",
              "      <td>6956.700787</td>\n",
              "      <td>6166.550657</td>\n",
              "      <td>15741.841551</td>\n",
              "      <td>29169.045419</td>\n",
              "      <td>22633.301692</td>\n",
              "      <td>5797.890823</td>\n",
              "    </tr>\n",
              "    <tr>\n",
              "      <th>진도패션</th>\n",
              "      <td>1264.999372</td>\n",
              "      <td>1069.029466</td>\n",
              "      <td>1660.981520</td>\n",
              "      <td>2810.662598</td>\n",
              "      <td>3093.761600</td>\n",
              "      <td>1123.178637</td>\n",
              "      <td>11696.892948</td>\n",
              "      <td>7749.130770</td>\n",
              "      <td>0.000000</td>\n",
              "      <td>10040.247621</td>\n",
              "      <td>23816.472524</td>\n",
              "      <td>950.091132</td>\n",
              "      <td>921.310377</td>\n",
              "      <td>1793.065557</td>\n",
              "      <td>20745.288780</td>\n",
              "      <td>34306.293450</td>\n",
              "      <td>27833.697113</td>\n",
              "      <td>3638.052019</td>\n",
              "    </tr>\n",
              "    <tr>\n",
              "      <th>한솔제지</th>\n",
              "      <td>9173.321593</td>\n",
              "      <td>9164.532126</td>\n",
              "      <td>8571.190008</td>\n",
              "      <td>7415.883684</td>\n",
              "      <td>8260.072896</td>\n",
              "      <td>8990.285226</td>\n",
              "      <td>3150.432766</td>\n",
              "      <td>6275.419744</td>\n",
              "      <td>10040.247621</td>\n",
              "      <td>0.000000</td>\n",
              "      <td>14531.416724</td>\n",
              "      <td>9182.121394</td>\n",
              "      <td>9148.450960</td>\n",
              "      <td>8352.795386</td>\n",
              "      <td>10816.000577</td>\n",
              "      <td>24608.912813</td>\n",
              "      <td>17955.470768</td>\n",
              "      <td>6678.110853</td>\n",
              "    </tr>\n",
              "    <tr>\n",
              "      <th>한양화학</th>\n",
              "      <td>23023.279302</td>\n",
              "      <td>22986.618548</td>\n",
              "      <td>22415.091429</td>\n",
              "      <td>21376.149916</td>\n",
              "      <td>22018.328008</td>\n",
              "      <td>22860.718441</td>\n",
              "      <td>12663.645171</td>\n",
              "      <td>19148.728296</td>\n",
              "      <td>23816.472524</td>\n",
              "      <td>14531.416724</td>\n",
              "      <td>0.000000</td>\n",
              "      <td>22922.081626</td>\n",
              "      <td>22959.943043</td>\n",
              "      <td>22191.666300</td>\n",
              "      <td>5295.429472</td>\n",
              "      <td>12340.813468</td>\n",
              "      <td>7534.748947</td>\n",
              "      <td>20209.347218</td>\n",
              "    </tr>\n",
              "    <tr>\n",
              "      <th>동성화학</th>\n",
              "      <td>690.789584</td>\n",
              "      <td>424.926770</td>\n",
              "      <td>808.380041</td>\n",
              "      <td>1943.446413</td>\n",
              "      <td>2358.019983</td>\n",
              "      <td>525.016390</td>\n",
              "      <td>10765.574818</td>\n",
              "      <td>7090.407309</td>\n",
              "      <td>950.091132</td>\n",
              "      <td>9182.121394</td>\n",
              "      <td>22922.081626</td>\n",
              "      <td>0.000000</td>\n",
              "      <td>303.375493</td>\n",
              "      <td>962.765293</td>\n",
              "      <td>19860.861386</td>\n",
              "      <td>33380.429970</td>\n",
              "      <td>26925.148478</td>\n",
              "      <td>2719.401443</td>\n",
              "    </tr>\n",
              "    <tr>\n",
              "      <th>종근당</th>\n",
              "      <td>733.339921</td>\n",
              "      <td>528.279481</td>\n",
              "      <td>866.393675</td>\n",
              "      <td>1935.809983</td>\n",
              "      <td>2416.151612</td>\n",
              "      <td>273.511901</td>\n",
              "      <td>10808.691174</td>\n",
              "      <td>6956.700787</td>\n",
              "      <td>921.310377</td>\n",
              "      <td>9148.450960</td>\n",
              "      <td>22959.943043</td>\n",
              "      <td>303.375493</td>\n",
              "      <td>0.000000</td>\n",
              "      <td>877.861287</td>\n",
              "      <td>19857.125912</td>\n",
              "      <td>33416.480978</td>\n",
              "      <td>26937.713700</td>\n",
              "      <td>2785.101980</td>\n",
              "    </tr>\n",
              "    <tr>\n",
              "      <th>녹십자</th>\n",
              "      <td>1040.966263</td>\n",
              "      <td>1050.508110</td>\n",
              "      <td>714.664145</td>\n",
              "      <td>1242.155888</td>\n",
              "      <td>1935.630288</td>\n",
              "      <td>706.447054</td>\n",
              "      <td>10014.293298</td>\n",
              "      <td>6166.550657</td>\n",
              "      <td>1793.065557</td>\n",
              "      <td>8352.795386</td>\n",
              "      <td>22191.666300</td>\n",
              "      <td>962.765293</td>\n",
              "      <td>877.861287</td>\n",
              "      <td>0.000000</td>\n",
              "      <td>19059.918221</td>\n",
              "      <td>32615.644682</td>\n",
              "      <td>26131.568148</td>\n",
              "      <td>2093.366905</td>\n",
              "    </tr>\n",
              "    <tr>\n",
              "      <th>쌍용양회</th>\n",
              "      <td>19878.591506</td>\n",
              "      <td>19865.326782</td>\n",
              "      <td>19268.922365</td>\n",
              "      <td>18133.320616</td>\n",
              "      <td>18822.550105</td>\n",
              "      <td>19718.290205</td>\n",
              "      <td>9493.435298</td>\n",
              "      <td>15741.841551</td>\n",
              "      <td>20745.288780</td>\n",
              "      <td>10816.000577</td>\n",
              "      <td>5295.429472</td>\n",
              "      <td>19860.861386</td>\n",
              "      <td>19857.125912</td>\n",
              "      <td>19059.918221</td>\n",
              "      <td>0.000000</td>\n",
              "      <td>14246.215617</td>\n",
              "      <td>7590.111327</td>\n",
              "      <td>17211.353573</td>\n",
              "    </tr>\n",
              "    <tr>\n",
              "      <th>대우전자</th>\n",
              "      <td>33324.651052</td>\n",
              "      <td>33347.019151</td>\n",
              "      <td>32737.151980</td>\n",
              "      <td>31606.682184</td>\n",
              "      <td>32037.569475</td>\n",
              "      <td>33285.429650</td>\n",
              "      <td>22620.842603</td>\n",
              "      <td>29169.045419</td>\n",
              "      <td>34306.293450</td>\n",
              "      <td>24608.912813</td>\n",
              "      <td>12340.813468</td>\n",
              "      <td>33380.429970</td>\n",
              "      <td>33416.480978</td>\n",
              "      <td>32615.644682</td>\n",
              "      <td>14246.215617</td>\n",
              "      <td>0.000000</td>\n",
              "      <td>6921.738456</td>\n",
              "      <td>30717.480421</td>\n",
              "    </tr>\n",
              "    <tr>\n",
              "      <th>동아건설</th>\n",
              "      <td>26869.944861</td>\n",
              "      <td>26888.175970</td>\n",
              "      <td>26276.945070</td>\n",
              "      <td>25121.928072</td>\n",
              "      <td>25639.034323</td>\n",
              "      <td>26793.896828</td>\n",
              "      <td>16258.779796</td>\n",
              "      <td>22633.301692</td>\n",
              "      <td>27833.697113</td>\n",
              "      <td>17955.470768</td>\n",
              "      <td>7534.748947</td>\n",
              "      <td>26925.148478</td>\n",
              "      <td>26937.713700</td>\n",
              "      <td>26131.568148</td>\n",
              "      <td>7590.111327</td>\n",
              "      <td>6921.738456</td>\n",
              "      <td>0.000000</td>\n",
              "      <td>24288.237571</td>\n",
              "    </tr>\n",
              "    <tr>\n",
              "      <th>동신주택</th>\n",
              "      <td>2865.923055</td>\n",
              "      <td>2792.089126</td>\n",
              "      <td>2259.320570</td>\n",
              "      <td>1562.357594</td>\n",
              "      <td>2644.687016</td>\n",
              "      <td>2718.959146</td>\n",
              "      <td>8106.062315</td>\n",
              "      <td>5797.890823</td>\n",
              "      <td>3638.052019</td>\n",
              "      <td>6678.110853</td>\n",
              "      <td>20209.347218</td>\n",
              "      <td>2719.401443</td>\n",
              "      <td>2785.101980</td>\n",
              "      <td>2093.366905</td>\n",
              "      <td>17211.353573</td>\n",
              "      <td>30717.480421</td>\n",
              "      <td>24288.237571</td>\n",
              "      <td>0.000000</td>\n",
              "    </tr>\n",
              "  </tbody>\n",
              "</table>\n",
              "</div>"
            ],
            "text/plain": [
              "              롯데삼강          해태유업  ...          동아건설          동신주택\n",
              "롯데삼강      0.000000    424.373668  ...  26869.944861   2865.923055\n",
              "해태유업    424.373668      0.000000  ...  26888.175970   2792.089126\n",
              "대림수산    659.809851    626.260337  ...  26276.945070   2259.320570\n",
              "삼양식품   1776.187268   1813.996538  ...  25121.928072   1562.357594\n",
              "백 양    1845.917249   2161.426760  ...  25639.034323   2644.687016\n",
              "동일방직    709.770357    621.586880  ...  26793.896828   2718.959146\n",
              "코오롱   10728.679574  10744.925306  ...  16258.779796   8106.062315\n",
              "태광산업   6936.159496   7146.443513  ...  22633.301692   5797.890823\n",
              "진도패션   1264.999372   1069.029466  ...  27833.697113   3638.052019\n",
              "한솔제지   9173.321593   9164.532126  ...  17955.470768   6678.110853\n",
              "한양화학  23023.279302  22986.618548  ...   7534.748947  20209.347218\n",
              "동성화학    690.789584    424.926770  ...  26925.148478   2719.401443\n",
              "종근당     733.339921    528.279481  ...  26937.713700   2785.101980\n",
              "녹십자    1040.966263   1050.508110  ...  26131.568148   2093.366905\n",
              "쌍용양회  19878.591506  19865.326782  ...   7590.111327  17211.353573\n",
              "대우전자  33324.651052  33347.019151  ...   6921.738456  30717.480421\n",
              "동아건설  26869.944861  26888.175970  ...      0.000000  24288.237571\n",
              "동신주택   2865.923055   2792.089126  ...  24288.237571      0.000000\n",
              "\n",
              "[18 rows x 18 columns]"
            ]
          },
          "metadata": {
            "tags": []
          },
          "execution_count": 99
        }
      ]
    },
    {
      "cell_type": "code",
      "metadata": {
        "id": "m9wz6cvDPMSN",
        "colab_type": "code",
        "colab": {}
      },
      "source": [
        "from sklearn.manifold import MDS"
      ],
      "execution_count": 0,
      "outputs": []
    },
    {
      "cell_type": "code",
      "metadata": {
        "id": "s6ipA1XedLLx",
        "colab_type": "code",
        "colab": {}
      },
      "source": [
        "mds = MDS(dissimilarity='precomputed', n_components=2, \n",
        "          random_state=40, max_iter=3000, eps=1e-9)\n",
        "X = mds.fit_transform(DistMat)"
      ],
      "execution_count": 0,
      "outputs": []
    },
    {
      "cell_type": "code",
      "metadata": {
        "id": "--eaWxgtddmi",
        "colab_type": "code",
        "colab": {}
      },
      "source": [
        "from sklearn import metrics"
      ],
      "execution_count": 0,
      "outputs": []
    },
    {
      "cell_type": "code",
      "metadata": {
        "id": "qmAKv1p7dgzE",
        "colab_type": "code",
        "colab": {
          "base_uri": "https://localhost:8080/",
          "height": 672
        },
        "outputId": "b566867e-0307-42b3-f564-4d973601f358"
      },
      "source": [
        "D_Euc = metrics.pairwise.pairwise_distances(X, metric='euclidean')\n",
        "print(np.round(D_Euc))"
      ],
      "execution_count": 101,
      "outputs": [
        {
          "output_type": "stream",
          "text": [
            "[[    0.   173.   583.  1787.  2360.   688. 10598.  7254.  1101.  9091.\n",
            "  23090.   412.   599.   970. 19689. 33271. 26693.  2630.]\n",
            " [  173.     0.   638.  1831.  2282.   548. 10703.  7210.   984.  9163.\n",
            "  23160.   242.   434.   947. 19784. 33377. 26801.  2733.]\n",
            " [  583.   638.     0.  1204.  1940.   726. 10079.  6733.  1610.  8526.\n",
            "  22522.   726.   803.   489. 19153. 32754. 26181.  2114.]\n",
            " [ 1787.  1831.  1204.     0.  1534.  1689.  9006.  5725.  2767.  7354.\n",
            "  21342.  1860.  1857.   992. 18037. 31669. 25109.  1208.]\n",
            " [ 2360.  2282.  1940.  1534.     0.  1798.  9848.  4986.  2853.  7890.\n",
            "  21722.  2139.  1997.  1451. 18697. 32390. 25872.  2638.]\n",
            " [  688.   548.   726.  1689.  1798.     0. 10685.  6770.  1138.  9032.\n",
            "  23007.   349.   205.   698. 19726. 33354. 26790.  2761.]\n",
            " [10598. 10703. 10079.  9006.  9848. 10685.     0.  8391. 11686.  2620.\n",
            "  12995. 10801. 10837.  9994.  9129. 22674. 16105.  7970.]\n",
            " [ 7254.  7210.  6733.  5725.  4986.  6770.  8391.     0.  7837.  5792.\n",
            "  18031.  7100.  6973.  6285. 15872. 29475. 23187.  5932.]\n",
            " [ 1101.   984.  1610.  2767.  2853.  1138. 11686.  7837.     0. 10120.\n",
            "  24109.   907.   939.  1804. 20764. 34360. 27785.  3716.]\n",
            " [ 9091.  9163.  8526.  7354.  7890.  9032.  2620.  5792. 10120.     0.\n",
            "  14000.  9213.  9208.  8335. 10814. 24519. 18035.  6526.]\n",
            " [23090. 23160. 22522. 21342. 21722. 23007. 12995. 18031. 24109. 14000.\n",
            "      0. 23202. 23189. 22315.  4994. 12230.  7457. 20519.]\n",
            " [  412.   242.   726.  1860.  2139.   349. 10801.  7100.   907.  9213.\n",
            "  23202.     0.   196.   909. 19868. 33475. 26904.  2840.]\n",
            " [  599.   434.   803.  1857.  1997.   205. 10837.  6973.   939.  9208.\n",
            "  23189.   196.     0.   875. 19888. 33508. 26941.  2892.]\n",
            " [  970.   947.   489.   992.  1451.   698.  9994.  6285.  1804.  8335.\n",
            "  22315.   909.   875.     0. 19029. 32660. 26098.  2103.]\n",
            " [19689. 19784. 19153. 18037. 18697. 19726.  9129. 15872. 20764. 10814.\n",
            "   4994. 19868. 19888. 19029.     0. 13711.  7315. 17060.]\n",
            " [33271. 33377. 32754. 31669. 32390. 33354. 22674. 29475. 34360. 24519.\n",
            "  12230. 33475. 33508. 32660. 13711.     0.  6602. 30644.]\n",
            " [26693. 26801. 26181. 25109. 25872. 26790. 16105. 23187. 27785. 18035.\n",
            "   7457. 26904. 26941. 26098.  7315.  6602.     0. 24069.]\n",
            " [ 2630.  2733.  2114.  1208.  2638.  2761.  7970.  5932.  3716.  6526.\n",
            "  20519.  2840.  2892.  2103. 17060. 30644. 24069.     0.]]\n"
          ],
          "name": "stdout"
        }
      ]
    },
    {
      "cell_type": "code",
      "metadata": {
        "id": "t8NvrmNzd2tR",
        "colab_type": "code",
        "colab": {}
      },
      "source": [
        "theta = 80*np.pi/180\n",
        "rot = np.array([[np.cos(theta), -np.sin(theta)],[np.sin(theta), np.cos(theta)]])\n",
        "Xr = np.dot(X,rot)"
      ],
      "execution_count": 0,
      "outputs": []
    },
    {
      "cell_type": "code",
      "metadata": {
        "id": "1jY7dTxhd-Fa",
        "colab_type": "code",
        "colab": {}
      },
      "source": [
        "Xr[:,0] *= -1"
      ],
      "execution_count": 0,
      "outputs": []
    },
    {
      "cell_type": "code",
      "metadata": {
        "id": "lJpQKTJad_rq",
        "colab_type": "code",
        "colab": {
          "base_uri": "https://localhost:8080/",
          "height": 269
        },
        "outputId": "f7995d03-1a95-413f-b232-1cc8d4652842"
      },
      "source": [
        "plt.scatter(Xr[:,0], Xr[:,1])\n",
        "for i in range(len(df.company)):\n",
        "  plt.text(Xr[i,0], Xr[i,1], df.company[i])"
      ],
      "execution_count": 108,
      "outputs": [
        {
          "output_type": "display_data",
          "data": {
            "image/png": "[encoded data removed]",
            "text/plain": [
              "<Figure size 432x288 with 1 Axes>"
            ]
          },
          "metadata": {
            "tags": []
          }
        }
      ]
    },
    {
      "cell_type": "code",
      "metadata": {
        "id": "AXJq0SfCeB9D",
        "colab_type": "code",
        "colab": {}
      },
      "source": [
        "k_range = range(1, min(5, DistMat.shape[0]-1))\n",
        "stress = [MDS(dissimilarity='precomputed', n_components=k, random_state=42,\n",
        "              max_iter=300, eps=1e-9).fit(DistMat).stress_\n",
        "         for k in k_range]"
      ],
      "execution_count": 0,
      "outputs": []
    },
    {
      "cell_type": "code",
      "metadata": {
        "id": "zdwgOj7eeKYf",
        "colab_type": "code",
        "colab": {
          "base_uri": "https://localhost:8080/",
          "height": 35
        },
        "outputId": "d0ef47d1-5414-461a-f8d8-12e8b876992c"
      },
      "source": [
        "print(stress)"
      ],
      "execution_count": 110,
      "outputs": [
        {
          "output_type": "stream",
          "text": [
            "[416733071.2590424, 6183075.582357888, 1196710.368812469, 193848.76062004332]\n"
          ],
          "name": "stdout"
        }
      ]
    },
    {
      "cell_type": "code",
      "metadata": {
        "id": "kM7XbK6AeRio",
        "colab_type": "code",
        "colab": {
          "base_uri": "https://localhost:8080/",
          "height": 308
        },
        "outputId": "f8a7811a-f33e-45b6-b6ba-fd8c83bab12b"
      },
      "source": [
        "plt.plot(k_range, stress)\n",
        "plt.xlabel(\"k\")\n",
        "plt.ylabel(\"stress\")"
      ],
      "execution_count": 111,
      "outputs": [
        {
          "output_type": "execute_result",
          "data": {
            "text/plain": [
              "Text(0, 0.5, 'stress')"
            ]
          },
          "metadata": {
            "tags": []
          },
          "execution_count": 111
        },
        {
          "output_type": "display_data",
          "data": {
            "image/png": "[encoded data removed]",
            "text/plain": [
              "<Figure size 432x288 with 1 Axes>"
            ]
          },
          "metadata": {
            "tags": []
          }
        }
      ]
    },
    {
      "cell_type": "code",
      "metadata": {
        "id": "2dpi1I44eSRW",
        "colab_type": "code",
        "colab": {}
      },
      "source": [
        ""
      ],
      "execution_count": 0,
      "outputs": []
    },
    {
      "cell_type": "markdown",
      "metadata": {
        "id": "9Kx0Q-bRg4tO",
        "colab_type": "text"
      },
      "source": [
        "해석 : 5가지 재무제표에 따라 기업들을 군집화할 수 있음. 2차원으로 표현하는 것이 그 이상 차원을 쓰는 것보다 stress 측면에서 유리하다. "
      ]
    }
  ]
}